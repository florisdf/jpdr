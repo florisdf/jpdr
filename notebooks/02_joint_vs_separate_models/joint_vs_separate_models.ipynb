{
 "cells": [
  {
   "cell_type": "markdown",
   "id": "1df97a0e",
   "metadata": {},
   "source": [
    "Measure the inference time of a separate detector and recognition network."
   ]
  },
  {
   "cell_type": "code",
   "execution_count": 1,
   "id": "482202d5",
   "metadata": {},
   "outputs": [],
   "source": [
    "import pandas as pd\n",
    "import torch\n",
    "\n",
    "\n",
    "def get_sku_mean_width_heights():\n",
    "    df = pd.read_pickle('../../.cache/sku110_train.pkl')\n",
    "    im_width_mean = df['width'].mean()\n",
    "    im_height_mean = df['height'].mean()\n",
    "\n",
    "    all_boxes = torch.cat([t['boxes'] for t in df['target']])\n",
    "    all_box_widths = all_boxes[:, ::2].diff().float()\n",
    "    all_box_heights = all_boxes[:, 1::2].diff().float()\n",
    "    box_width_mean = float(all_box_widths.mean())\n",
    "    box_height_mean = float(all_box_heights.mean())\n",
    "\n",
    "    return (\n",
    "        im_width_mean, im_height_mean,\n",
    "        box_width_mean, box_height_mean\n",
    "    )\n",
    "\n",
    "\n",
    "def get_sku_num_boxes_per_img():\n",
    "    df = pd.read_pickle('../../.cache/sku110_train.pkl')\n",
    "    return torch.tensor([len(t['boxes']) for t in df['target']]).float()\n",
    "\n",
    "\n",
    "def random_tfm_crop_boxes(\n",
    "    orig_im_width, orig_im_height,\n",
    "    orig_box_width, orig_box_height,\n",
    "    tfm_im_width, tfm_im_height,\n",
    "    num_boxes\n",
    "):\n",
    "    tfm_x_scale = tfm_im_width / orig_im_width\n",
    "    tfm_y_scale = tfm_im_height / orig_im_height\n",
    "\n",
    "    tfm_box_width = int(orig_box_width * tfm_x_scale)\n",
    "    tfm_box_height = int(orig_box_height * tfm_y_scale)\n",
    "\n",
    "    crop_boxes_x1 = torch.randint(tfm_im_width - tfm_box_width, (num_boxes, 1))\n",
    "    crop_boxes_y1 = torch.randint(tfm_im_height - tfm_box_height, (num_boxes, 1))\n",
    "\n",
    "    return torch.hstack([\n",
    "        crop_boxes_x1,\n",
    "        crop_boxes_y1,\n",
    "        crop_boxes_x1 + tfm_box_width,\n",
    "        crop_boxes_y1 + tfm_box_height,\n",
    "    ])"
   ]
  },
  {
   "cell_type": "code",
   "execution_count": 2,
   "id": "d0a6197b",
   "metadata": {},
   "outputs": [],
   "source": [
    "from time import time\n",
    "import torch\n",
    "from torchvision.transforms import functional as F\n",
    "\n",
    "\n",
    "def time_separate_det_recog_nets(\n",
    "    faster_rcnn, rn50,\n",
    "    device,\n",
    "    det_input_size,\n",
    "    recog_input_size,\n",
    "    dets_per_img,\n",
    "):\n",
    "    faster_rcnn.to(device)\n",
    "    rn50.to(device)\n",
    "    x = torch.randn((1, 3, det_input_size, det_input_size)).to(device)\n",
    "\n",
    "    # Output from get_sku_mean_width_heights()\n",
    "    im_width_mean = 2435.999269628728\n",
    "    im_height_mean = 3211.501643335362\n",
    "    box_width_mean = 120.7902603149414\n",
    "    box_height_mean = 190.1041259765625\n",
    "\n",
    "    crop_boxes = random_tfm_crop_boxes(\n",
    "        im_width_mean, im_height_mean,\n",
    "        box_width_mean, box_height_mean,\n",
    "        det_input_size, det_input_size,\n",
    "        dets_per_img\n",
    "    )\n",
    "\n",
    "    start = time()\n",
    "\n",
    "    with torch.no_grad():\n",
    "        faster_rcnn(x)\n",
    "\n",
    "    crops = torch.cat([\n",
    "        F.center_crop(\n",
    "            F.resize(\n",
    "                F.crop(x, top=box[1], left=box[0],\n",
    "                       height=box[3] - box[1], width=box[2] - box[0]),\n",
    "                recog_input_size\n",
    "            ),\n",
    "            recog_input_size\n",
    "        )\n",
    "        for box in crop_boxes\n",
    "    ])\n",
    "\n",
    "    with torch.no_grad():\n",
    "        rn50(crops)\n",
    "\n",
    "    end = time()\n",
    "\n",
    "    return end - start\n",
    "\n",
    "\n",
    "def time_joint_det_recog(\n",
    "    faster_rcnn, recog_head, device,\n",
    "    det_input_size,\n",
    "    dets_per_img,\n",
    "):\n",
    "    faster_rcnn.to(device)\n",
    "    recog_head.to(device)\n",
    "    x = torch.randn((1, 3, det_input_size, det_input_size)).to(device)\n",
    "    features = torch.randn((faster_rcnn.rpn.post_nms_top_n(),\n",
    "                            recog_head.in_features)).to(device)\n",
    "\n",
    "    start = time()\n",
    "\n",
    "    with torch.no_grad():\n",
    "        out = faster_rcnn(x)\n",
    "        recog_head(features)\n",
    "\n",
    "    end = time()\n",
    "\n",
    "    return end - start"
   ]
  },
  {
   "cell_type": "code",
   "execution_count": 3,
   "id": "7d8bfc6f",
   "metadata": {},
   "outputs": [],
   "source": [
    "from tqdm.notebook import tqdm\n",
    "from itertools import product\n",
    "from torchvision.models.detection import fasterrcnn_resnet50_fpn\n",
    "from torchvision.models.resnet import resnet50\n",
    "from random import shuffle\n",
    "\n",
    "\n",
    "def get_timing_results(\n",
    "    faster_rcnn,\n",
    "    rn50,\n",
    "    recog_head,\n",
    "    devices,\n",
    "    det_input_sizes,\n",
    "    recog_input_sizes,\n",
    "    dets_per_imgs,\n",
    "    iters\n",
    "):\n",
    "    results = []\n",
    "\n",
    "    iter_list = list(product(\n",
    "        det_input_sizes,\n",
    "        recog_input_sizes,\n",
    "        dets_per_imgs\n",
    "    ))\n",
    "\n",
    "    for device in tqdm(devices):\n",
    "        for _ in tqdm(range(iters), leave=False):\n",
    "            # Shuffle to avoid that a certain combination of params\n",
    "            # always occurs at the same iteration.\n",
    "            shuffle(iter_list)\n",
    "\n",
    "            for (det_input_size,\n",
    "                 recog_input_size,\n",
    "                 dets_per_img) in tqdm(iter_list, leave=False):\n",
    "                t_sep = time_separate_det_recog_nets(\n",
    "                    faster_rcnn, rn50, device,\n",
    "                    det_input_size=det_input_size,\n",
    "                    recog_input_size=recog_input_size,\n",
    "                    dets_per_img=dets_per_img,\n",
    "                )\n",
    "                t_joint = time_joint_det_recog(\n",
    "                    faster_rcnn, recog_head, device,\n",
    "                    det_input_size=det_input_size,\n",
    "                    dets_per_img=dets_per_img,\n",
    "                )\n",
    "                for t, is_joint in [(t_joint, True),\n",
    "                                    (t_sep, False)]:\n",
    "                    results.append({\n",
    "                        'time': t,\n",
    "                        'type': 'Joint' if is_joint else 'Separate',\n",
    "                        'det_input_size': det_input_size,\n",
    "                        'recog_input_size': recog_input_size,\n",
    "                        'dets_per_img': dets_per_img,\n",
    "                        'device': device.type,\n",
    "                    })\n",
    "    return pd.DataFrame(results)"
   ]
  },
  {
   "cell_type": "code",
   "execution_count": 4,
   "id": "6559b3d0",
   "metadata": {},
   "outputs": [],
   "source": [
    "from pathlib import Path\n",
    "\n",
    "from torch import nn\n",
    "\n",
    "\n",
    "LAZY = True\n",
    "\n",
    "df_res_path = Path('sep_vs_joint_inference_time_results.pkl')\n",
    "\n",
    "devices = [\n",
    "    torch.device('cuda'),\n",
    "    torch.device('cpu')\n",
    "]\n",
    "rn50 = resnet50().eval()\n",
    "faster_rcnn = fasterrcnn_resnet50_fpn(\n",
    "    rpn_nms_thresh=1.0,\n",
    "    box_score_thresh=0.0,\n",
    "    box_nms_thresh=1.0,\n",
    ").eval()\n",
    "\n",
    "id_embedding_size = 512\n",
    "recog_head = nn.Linear(\n",
    "    faster_rcnn.roi_heads.box_predictor.cls_score.in_features,\n",
    "    id_embedding_size\n",
    ").eval()"
   ]
  },
  {
   "cell_type": "code",
   "execution_count": 5,
   "id": "d1287256",
   "metadata": {
    "scrolled": false
   },
   "outputs": [],
   "source": [
    "if not df_res_path.exists() or not LAZY:\n",
    "    df_res = get_timing_results(\n",
    "        faster_rcnn, rn50, recog_head, devices=devices,\n",
    "        det_input_sizes=[800],\n",
    "        recog_input_sizes=[224],\n",
    "        dets_per_imgs=list(range(10, 201, 10)),\n",
    "        iters=5\n",
    "    )\n",
    "    df_res.to_pickle(df_res_path)\n",
    "else:\n",
    "    df_res = pd.read_pickle(df_res_path)"
   ]
  },
  {
   "cell_type": "code",
   "execution_count": 6,
   "id": "0f819c99",
   "metadata": {},
   "outputs": [
    {
     "data": {
      "text/plain": [
       "<seaborn.axisgrid.FacetGrid at 0x7f45783e30d0>"
      ]
     },
     "execution_count": 6,
     "metadata": {},
     "output_type": "execute_result"
    },
    {
     "data": {
      "image/png": "[encoded data removed]",
      "text/plain": [
       "<Figure size 449.85x360 with 1 Axes>"
      ]
     },
     "metadata": {},
     "output_type": "display_data"
    }
   ],
   "source": [
    "import seaborn as sns\n",
    "sns.set()\n",
    "\n",
    "N_PROD = 'Number of products'\n",
    "TIME = 'Time (s)'\n",
    "DEVICE = 'Device'\n",
    "MODEL_TYPE = 'Architecture'\n",
    "\n",
    "df_res = df_res.rename(columns={\n",
    "    'dets_per_img': N_PROD,\n",
    "    'time': TIME,\n",
    "    'device': DEVICE,\n",
    "    'type': MODEL_TYPE\n",
    "})\n",
    "\n",
    "df_res_cuda = df_res[df_res[DEVICE] == 'cuda']\n",
    "df_res_cpu = df_res[df_res[DEVICE] == 'cpu']\n",
    "\n",
    "sns.relplot(data=df_res_cuda,\n",
    "            x=N_PROD, y=TIME,\n",
    "            hue=MODEL_TYPE, kind='line', style=MODEL_TYPE, col=DEVICE)"
   ]
  },
  {
   "cell_type": "code",
   "execution_count": 7,
   "id": "2f29a49c",
   "metadata": {},
   "outputs": [
    {
     "data": {
      "text/plain": [
       "<seaborn.axisgrid.FacetGrid at 0x7f4578399cd0>"
      ]
     },
     "execution_count": 7,
     "metadata": {},
     "output_type": "execute_result"
    },
    {
     "data": {
      "image/png": "[encoded data removed]",
      "text/plain": [
       "<Figure size 449.85x360 with 1 Axes>"
      ]
     },
     "metadata": {},
     "output_type": "display_data"
    }
   ],
   "source": [
    "sns.relplot(data=df_res_cpu,\n",
    "            x=N_PROD, y=TIME,\n",
    "            hue=MODEL_TYPE, kind='line', style=MODEL_TYPE, col=DEVICE)"
   ]
  },
  {
   "cell_type": "code",
   "execution_count": 8,
   "id": "89da177b",
   "metadata": {},
   "outputs": [
    {
     "data": {
      "text/plain": [
       "<seaborn.axisgrid.FacetGrid at 0x7f44309615b0>"
      ]
     },
     "execution_count": 8,
     "metadata": {},
     "output_type": "execute_result"
    },
    {
     "data": {
      "image/png": "[encoded data removed]",
      "text/plain": [
       "<Figure size 360x360 with 1 Axes>"
      ]
     },
     "metadata": {},
     "output_type": "display_data"
    }
   ],
   "source": [
    "sns.catplot(data=df_res_cuda[df_res_cuda[N_PROD] == 200],\n",
    "            x=MODEL_TYPE,\n",
    "            y=TIME, kind=\"bar\")"
   ]
  },
  {
   "cell_type": "code",
   "execution_count": 18,
   "id": "733b1775",
   "metadata": {},
   "outputs": [
    {
     "data": {
      "text/html": [
       "<div>\n",
       "<style scoped>\n",
       "    .dataframe tbody tr th:only-of-type {\n",
       "        vertical-align: middle;\n",
       "    }\n",
       "\n",
       "    .dataframe tbody tr th {\n",
       "        vertical-align: top;\n",
       "    }\n",
       "\n",
       "    .dataframe thead th {\n",
       "        text-align: right;\n",
       "    }\n",
       "</style>\n",
       "<table border=\"1\" class=\"dataframe\">\n",
       "  <thead>\n",
       "    <tr style=\"text-align: right;\">\n",
       "      <th></th>\n",
       "      <th>Time (s)</th>\n",
       "      <th>det_input_size</th>\n",
       "      <th>recog_input_size</th>\n",
       "      <th>Number of products</th>\n",
       "    </tr>\n",
       "    <tr>\n",
       "      <th>Architecture</th>\n",
       "      <th></th>\n",
       "      <th></th>\n",
       "      <th></th>\n",
       "      <th></th>\n",
       "    </tr>\n",
       "  </thead>\n",
       "  <tbody>\n",
       "    <tr>\n",
       "      <th>Joint</th>\n",
       "      <td>0.117714</td>\n",
       "      <td>800.0</td>\n",
       "      <td>224.0</td>\n",
       "      <td>200.0</td>\n",
       "    </tr>\n",
       "    <tr>\n",
       "      <th>Separate</th>\n",
       "      <td>0.176884</td>\n",
       "      <td>800.0</td>\n",
       "      <td>224.0</td>\n",
       "      <td>200.0</td>\n",
       "    </tr>\n",
       "  </tbody>\n",
       "</table>\n",
       "</div>"
      ],
      "text/plain": [
       "              Time (s)  det_input_size  recog_input_size  Number of products\n",
       "Architecture                                                                \n",
       "Joint         0.117714           800.0             224.0               200.0\n",
       "Separate      0.176884           800.0             224.0               200.0"
      ]
     },
     "execution_count": 18,
     "metadata": {},
     "output_type": "execute_result"
    }
   ],
   "source": [
    "df_res_cuda[df_res_cuda[N_PROD] == 200].groupby(MODEL_TYPE).mean()"
   ]
  },
  {
   "cell_type": "code",
   "execution_count": 9,
   "id": "e8392990",
   "metadata": {},
   "outputs": [
    {
     "data": {
      "text/plain": [
       "<seaborn.axisgrid.FacetGrid at 0x7f443094d910>"
      ]
     },
     "execution_count": 9,
     "metadata": {},
     "output_type": "execute_result"
    },
    {
     "data": {
      "image/png": "[encoded data removed]",
      "text/plain": [
       "<Figure size 360x360 with 1 Axes>"
      ]
     },
     "metadata": {},
     "output_type": "display_data"
    }
   ],
   "source": [
    "sns.catplot(data=df_res_cpu[df_res_cpu[N_PROD] == 200],\n",
    "            x=MODEL_TYPE,\n",
    "            y=TIME, kind=\"bar\")"
   ]
  },
  {
   "cell_type": "markdown",
   "id": "11c9d2a9",
   "metadata": {},
   "source": [
    "# Estimated model size of joint vs separate model"
   ]
  },
  {
   "cell_type": "code",
   "execution_count": 10,
   "id": "fae6a271",
   "metadata": {},
   "outputs": [],
   "source": [
    "def get_model_size_mb(model):\n",
    "    param_size = 0\n",
    "    for param in model.parameters():\n",
    "        param_size += param.nelement() * param.element_size()\n",
    "    buffer_size = 0\n",
    "    for buffer in model.buffers():\n",
    "        buffer_size += buffer.nelement() * buffer.element_size()\n",
    "\n",
    "    return (param_size + buffer_size) / 1024**2"
   ]
  },
  {
   "cell_type": "code",
   "execution_count": 14,
   "id": "da64b5b2",
   "metadata": {},
   "outputs": [
    {
     "data": {
      "text/plain": [
       "159.68904876708984"
      ]
     },
     "execution_count": 14,
     "metadata": {},
     "output_type": "execute_result"
    }
   ],
   "source": [
    "get_model_size_mb(faster_rcnn)"
   ]
  },
  {
   "cell_type": "code",
   "execution_count": 15,
   "id": "54153d73",
   "metadata": {},
   "outputs": [
    {
     "data": {
      "text/plain": [
       "97.69538116455078"
      ]
     },
     "execution_count": 15,
     "metadata": {},
     "output_type": "execute_result"
    }
   ],
   "source": [
    "get_model_size_mb(rn50)"
   ]
  },
  {
   "cell_type": "code",
   "execution_count": 16,
   "id": "b35f59f4",
   "metadata": {},
   "outputs": [
    {
     "data": {
      "text/plain": [
       "2.001953125"
      ]
     },
     "execution_count": 16,
     "metadata": {},
     "output_type": "execute_result"
    }
   ],
   "source": [
    "get_model_size_mb(recog_head)"
   ]
  },
  {
   "cell_type": "code",
   "execution_count": 11,
   "id": "07f3d620",
   "metadata": {},
   "outputs": [
    {
     "name": "stdout",
     "output_type": "stream",
     "text": [
      "Estimated joint model size: 161.7 MB\n"
     ]
    }
   ],
   "source": [
    "print(f'Estimated joint model size: {get_model_size_mb(faster_rcnn) + get_model_size_mb(recog_head):.1f} MB')"
   ]
  },
  {
   "cell_type": "code",
   "execution_count": 12,
   "id": "556fbf6d",
   "metadata": {},
   "outputs": [
    {
     "name": "stdout",
     "output_type": "stream",
     "text": [
      "Estimated separate model size: 257.4 MB\n"
     ]
    }
   ],
   "source": [
    "print(f'Estimated separate model size: {get_model_size_mb(faster_rcnn) + get_model_size_mb(rn50):.1f} MB')"
   ]
  },
  {
   "cell_type": "markdown",
   "id": "31630927",
   "metadata": {},
   "source": [
    "# Linear regression through time vs. number of products"
   ]
  },
  {
   "cell_type": "code",
   "execution_count": 13,
   "id": "1df642cb",
   "metadata": {},
   "outputs": [
    {
     "name": "stdout",
     "output_type": "stream",
     "text": [
      "Joint on cpu:\n",
      "Delay per extra 10 products: 0.1 ms\n",
      "\n",
      "Joint on cuda:\n",
      "Delay per extra 10 products: 0.0 ms\n",
      "\n",
      "Separate on cpu:\n",
      "Delay per extra 10 products: 552.9 ms\n",
      "\n",
      "Separate on cuda:\n",
      "Delay per extra 10 products: 2.4 ms\n",
      "\n"
     ]
    }
   ],
   "source": [
    "from sklearn.linear_model import LinearRegression\n",
    "\n",
    "for (t, dev), group in df_res.groupby([MODEL_TYPE, DEVICE]):\n",
    "    print(f'{t} on {dev}:')\n",
    "    delay_per_prod = LinearRegression().fit(group[N_PROD].values[:, None], group[TIME]).coef_[0]\n",
    "    n_prod = 10\n",
    "    print(f'Delay per extra {n_prod} products: {delay_per_prod*n_prod*1000:.1f} ms\\n')"
   ]
  },
  {
   "cell_type": "code",
   "execution_count": null,
   "id": "2f694415",
   "metadata": {},
   "outputs": [],
   "source": []
  }
 ],
 "metadata": {
  "kernelspec": {
   "display_name": "Python 3 (ipykernel)",
   "language": "python",
   "name": "python3"
  },
  "language_info": {
   "codemirror_mode": {
    "name": "ipython",
    "version": 3
   },
   "file_extension": ".py",
   "mimetype": "text/x-python",
   "name": "python",
   "nbconvert_exporter": "python",
   "pygments_lexer": "ipython3",
   "version": "3.9.13"
  }
 },
 "nbformat": 4,
 "nbformat_minor": 5
}
