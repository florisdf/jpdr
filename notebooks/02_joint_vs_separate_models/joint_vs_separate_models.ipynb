{
 "cells": [
  {
   "cell_type": "markdown",
   "id": "1df97a0e",
   "metadata": {},
   "source": [
    "Measure the inference time of a separate detector and recognition network."
   ]
  },
  {
   "cell_type": "code",
   "execution_count": 3,
   "id": "7d8bfc6f",
   "metadata": {},
   "outputs": [],
   "source": [
    "from tqdm.notebook import tqdm\n",
    "from itertools import product\n",
    "from torchvision.models.detection import fasterrcnn_resnet50_fpn\n",
    "from torchvision.models.resnet import resnet50\n",
    "from random import shuffle\n",
    "from .joint_vs_separate_models import time_separate_det_recog_nets, time_joint_det_recog\n",
    "\n",
    "\n",
    "def get_timing_results(\n",
    "    faster_rcnn,\n",
    "    rn50,\n",
    "    recog_head,\n",
    "    devices,\n",
    "    det_input_sizes,\n",
    "    recog_input_sizes,\n",
    "    dets_per_imgs,\n",
    "    iters\n",
    "):\n",
    "    results = []\n",
    "\n",
    "    iter_list = list(product(\n",
    "        det_input_sizes,\n",
    "        recog_input_sizes,\n",
    "        dets_per_imgs\n",
    "    ))\n",
    "\n",
    "    for device in tqdm(devices):\n",
    "        for _ in tqdm(range(iters), leave=False):\n",
    "            # Shuffle to avoid that a certain combination of params\n",
    "            # always occurs at the same iteration.\n",
    "            shuffle(iter_list)\n",
    "\n",
    "            for (det_input_size,\n",
    "                 recog_input_size,\n",
    "                 dets_per_img) in tqdm(iter_list, leave=False):\n",
    "                t_sep = time_separate_det_recog_nets(\n",
    "                    faster_rcnn, rn50, device,\n",
    "                    det_input_size=det_input_size,\n",
    "                    recog_input_size=recog_input_size,\n",
    "                    dets_per_img=dets_per_img,\n",
    "                )\n",
    "                t_joint = time_joint_det_recog(\n",
    "                    faster_rcnn, recog_head, device,\n",
    "                    det_input_size=det_input_size,\n",
    "                    dets_per_img=dets_per_img,\n",
    "                )\n",
    "                for t, is_joint in [(t_joint, True),\n",
    "                                    (t_sep, False)]:\n",
    "                    results.append({\n",
    "                        'time': t,\n",
    "                        'type': 'Joint' if is_joint else 'Separate',\n",
    "                        'det_input_size': det_input_size,\n",
    "                        'recog_input_size': recog_input_size,\n",
    "                        'dets_per_img': dets_per_img,\n",
    "                        'device': device.type,\n",
    "                    })\n",
    "    return pd.DataFrame(results)"
   ]
  },
  {
   "cell_type": "code",
   "execution_count": 4,
   "id": "6559b3d0",
   "metadata": {},
   "outputs": [],
   "source": [
    "from pathlib import Path\n",
    "\n",
    "from torch import nn\n",
    "\n",
    "\n",
    "LAZY = True\n",
    "\n",
    "df_res_path = Path('sep_vs_joint_inference_time_results.pkl')\n",
    "\n",
    "devices = [\n",
    "    torch.device('cuda'),\n",
    "    torch.device('cpu')\n",
    "]\n",
    "rn50 = resnet50().eval()\n",
    "faster_rcnn = fasterrcnn_resnet50_fpn(\n",
    "    rpn_nms_thresh=1.0,\n",
    "    box_score_thresh=0.0,\n",
    "    box_nms_thresh=1.0,\n",
    ").eval()\n",
    "\n",
    "id_embedding_size = 512\n",
    "recog_head = nn.Linear(\n",
    "    faster_rcnn.roi_heads.box_predictor.cls_score.in_features,\n",
    "    id_embedding_size\n",
    ").eval()"
   ]
  },
  {
   "cell_type": "code",
   "execution_count": 5,
   "id": "d1287256",
   "metadata": {
    "scrolled": false
   },
   "outputs": [],
   "source": [
    "if not df_res_path.exists() or not LAZY:\n",
    "    df_res = get_timing_results(\n",
    "        faster_rcnn, rn50, recog_head, devices=devices,\n",
    "        det_input_sizes=[800],\n",
    "        recog_input_sizes=[224],\n",
    "        dets_per_imgs=list(range(10, 201, 10)),\n",
    "        iters=5\n",
    "    )\n",
    "    df_res.to_pickle(df_res_path)\n",
    "else:\n",
    "    df_res = pd.read_pickle(df_res_path)"
   ]
  },
  {
   "cell_type": "code",
   "execution_count": 6,
   "id": "0f819c99",
   "metadata": {},
   "outputs": [
    {
     "data": {
      "text/plain": [
       "<seaborn.axisgrid.FacetGrid at 0x7fc77e260460>"
      ]
     },
     "execution_count": 6,
     "metadata": {},
     "output_type": "execute_result"
    },
    {
     "data": {
      "image/png": "[encoded data removed]",
      "text/plain": [
       "<Figure size 449.85x360 with 1 Axes>"
      ]
     },
     "metadata": {
      "needs_background": "light"
     },
     "output_type": "display_data"
    }
   ],
   "source": [
    "import seaborn as sns\n",
    "sns.set()\n",
    "\n",
    "N_PROD = 'Number of products'\n",
    "TIME = 'Time (s)'\n",
    "DEVICE = 'Device'\n",
    "MODEL_TYPE = 'Architecture'\n",
    "\n",
    "df_res = df_res.rename(columns={\n",
    "    'dets_per_img': N_PROD,\n",
    "    'time': TIME,\n",
    "    'device': DEVICE,\n",
    "    'type': MODEL_TYPE\n",
    "})\n",
    "\n",
    "df_res_cuda = df_res[df_res[DEVICE] == 'cuda']\n",
    "df_res_cpu = df_res[df_res[DEVICE] == 'cpu']\n",
    "\n",
    "sns.relplot(data=df_res_cuda,\n",
    "            x=N_PROD, y=TIME,\n",
    "            hue=MODEL_TYPE, kind='line', style=MODEL_TYPE, col=DEVICE)"
   ]
  },
  {
   "cell_type": "code",
   "execution_count": 7,
   "id": "2f29a49c",
   "metadata": {},
   "outputs": [
    {
     "data": {
      "text/plain": [
       "<seaborn.axisgrid.FacetGrid at 0x7fc77be513a0>"
      ]
     },
     "execution_count": 7,
     "metadata": {},
     "output_type": "execute_result"
    },
    {
     "data": {
      "image/png": "[encoded data removed]",
      "text/plain": [
       "<Figure size 624.625x500 with 1 Axes>"
      ]
     },
     "metadata": {},
     "output_type": "display_data"
    }
   ],
   "source": [
    "sns.relplot(data=df_res_cpu,\n",
    "            x=N_PROD, y=TIME,\n",
    "            hue=MODEL_TYPE, kind='line', style=MODEL_TYPE, col=DEVICE)"
   ]
  },
  {
   "cell_type": "code",
   "execution_count": 28,
   "id": "53916ecc",
   "metadata": {},
   "outputs": [
    {
     "data": {
      "text/html": [
       "<div>\n",
       "<style scoped>\n",
       "    .dataframe tbody tr th:only-of-type {\n",
       "        vertical-align: middle;\n",
       "    }\n",
       "\n",
       "    .dataframe tbody tr th {\n",
       "        vertical-align: top;\n",
       "    }\n",
       "\n",
       "    .dataframe thead tr th {\n",
       "        text-align: left;\n",
       "    }\n",
       "\n",
       "    .dataframe thead tr:last-of-type th {\n",
       "        text-align: right;\n",
       "    }\n",
       "</style>\n",
       "<table border=\"1\" class=\"dataframe\">\n",
       "  <thead>\n",
       "    <tr>\n",
       "      <th></th>\n",
       "      <th></th>\n",
       "      <th colspan=\"2\" halign=\"left\">Time (s)</th>\n",
       "    </tr>\n",
       "    <tr>\n",
       "      <th></th>\n",
       "      <th></th>\n",
       "      <th>mean</th>\n",
       "      <th>std</th>\n",
       "    </tr>\n",
       "    <tr>\n",
       "      <th>Architecture</th>\n",
       "      <th>Number of products</th>\n",
       "      <th></th>\n",
       "      <th></th>\n",
       "    </tr>\n",
       "  </thead>\n",
       "  <tbody>\n",
       "    <tr>\n",
       "      <th rowspan=\"4\" valign=\"top\">Joint</th>\n",
       "      <th>50</th>\n",
       "      <td>1.633059</td>\n",
       "      <td>0.168579</td>\n",
       "    </tr>\n",
       "    <tr>\n",
       "      <th>100</th>\n",
       "      <td>1.691749</td>\n",
       "      <td>0.207801</td>\n",
       "    </tr>\n",
       "    <tr>\n",
       "      <th>150</th>\n",
       "      <td>1.628208</td>\n",
       "      <td>0.110004</td>\n",
       "    </tr>\n",
       "    <tr>\n",
       "      <th>200</th>\n",
       "      <td>1.644468</td>\n",
       "      <td>0.087173</td>\n",
       "    </tr>\n",
       "    <tr>\n",
       "      <th rowspan=\"4\" valign=\"top\">Separate</th>\n",
       "      <th>50</th>\n",
       "      <td>4.598782</td>\n",
       "      <td>0.520596</td>\n",
       "    </tr>\n",
       "    <tr>\n",
       "      <th>100</th>\n",
       "      <td>7.476992</td>\n",
       "      <td>0.641614</td>\n",
       "    </tr>\n",
       "    <tr>\n",
       "      <th>150</th>\n",
       "      <td>10.015902</td>\n",
       "      <td>0.805226</td>\n",
       "    </tr>\n",
       "    <tr>\n",
       "      <th>200</th>\n",
       "      <td>12.706849</td>\n",
       "      <td>1.008130</td>\n",
       "    </tr>\n",
       "  </tbody>\n",
       "</table>\n",
       "</div>"
      ],
      "text/plain": [
       "                                  Time (s)          \n",
       "                                      mean       std\n",
       "Architecture Number of products                     \n",
       "Joint        50                   1.633059  0.168579\n",
       "             100                  1.691749  0.207801\n",
       "             150                  1.628208  0.110004\n",
       "             200                  1.644468  0.087173\n",
       "Separate     50                   4.598782  0.520596\n",
       "             100                  7.476992  0.641614\n",
       "             150                 10.015902  0.805226\n",
       "             200                 12.706849  1.008130"
      ]
     },
     "execution_count": 28,
     "metadata": {},
     "output_type": "execute_result"
    }
   ],
   "source": [
    "df_res_cpu[df_res_cpu[N_PROD].isin([50, 100, 150, 200])].drop(columns=[DEVICE, 'det_input_size', 'recog_input_size']).groupby([MODEL_TYPE, N_PROD]).agg(['mean', 'std'])"
   ]
  },
  {
   "cell_type": "code",
   "execution_count": 48,
   "id": "8461c3f8",
   "metadata": {},
   "outputs": [],
   "source": [
    "n_prods_select = [50, 100, 150, 200]\n",
    "df_res_cpu_pv = (\n",
    "    df_res_cpu[df_res_cpu[N_PROD].isin(n_prods_select)]\n",
    "    .drop(columns=[DEVICE, 'det_input_size', 'recog_input_size'])\n",
    "    .pivot_table(values=TIME, index=MODEL_TYPE, columns=N_PROD, aggfunc=['mean', 'std'])\n",
    ")"
   ]
  },
  {
   "cell_type": "code",
   "execution_count": 49,
   "id": "30fda6e4",
   "metadata": {},
   "outputs": [
    {
     "data": {
      "text/plain": [
       "Architecture\n",
       "Joint       1.633059\n",
       "Separate    4.598782\n",
       "Name: 50, dtype: float64"
      ]
     },
     "execution_count": 49,
     "metadata": {},
     "output_type": "execute_result"
    }
   ],
   "source": [
    "df_res_cpu_pv['mean'][50]"
   ]
  },
  {
   "cell_type": "code",
   "execution_count": 50,
   "id": "5bf9f220",
   "metadata": {},
   "outputs": [
    {
     "data": {
      "text/html": [
       "<div>\n",
       "<style scoped>\n",
       "    .dataframe tbody tr th:only-of-type {\n",
       "        vertical-align: middle;\n",
       "    }\n",
       "\n",
       "    .dataframe tbody tr th {\n",
       "        vertical-align: top;\n",
       "    }\n",
       "\n",
       "    .dataframe thead tr th {\n",
       "        text-align: left;\n",
       "    }\n",
       "\n",
       "    .dataframe thead tr:last-of-type th {\n",
       "        text-align: right;\n",
       "    }\n",
       "</style>\n",
       "<table border=\"1\" class=\"dataframe\">\n",
       "  <thead>\n",
       "    <tr>\n",
       "      <th></th>\n",
       "      <th colspan=\"4\" halign=\"left\">mean</th>\n",
       "      <th colspan=\"4\" halign=\"left\">std</th>\n",
       "    </tr>\n",
       "    <tr>\n",
       "      <th>Number of products</th>\n",
       "      <th>50</th>\n",
       "      <th>100</th>\n",
       "      <th>150</th>\n",
       "      <th>200</th>\n",
       "      <th>50</th>\n",
       "      <th>100</th>\n",
       "      <th>150</th>\n",
       "      <th>200</th>\n",
       "    </tr>\n",
       "    <tr>\n",
       "      <th>Architecture</th>\n",
       "      <th></th>\n",
       "      <th></th>\n",
       "      <th></th>\n",
       "      <th></th>\n",
       "      <th></th>\n",
       "      <th></th>\n",
       "      <th></th>\n",
       "      <th></th>\n",
       "    </tr>\n",
       "  </thead>\n",
       "  <tbody>\n",
       "    <tr>\n",
       "      <th>Joint</th>\n",
       "      <td>1.633059</td>\n",
       "      <td>1.691749</td>\n",
       "      <td>1.628208</td>\n",
       "      <td>1.644468</td>\n",
       "      <td>0.168579</td>\n",
       "      <td>0.207801</td>\n",
       "      <td>0.110004</td>\n",
       "      <td>0.087173</td>\n",
       "    </tr>\n",
       "    <tr>\n",
       "      <th>Separate</th>\n",
       "      <td>4.598782</td>\n",
       "      <td>7.476992</td>\n",
       "      <td>10.015902</td>\n",
       "      <td>12.706849</td>\n",
       "      <td>0.520596</td>\n",
       "      <td>0.641614</td>\n",
       "      <td>0.805226</td>\n",
       "      <td>1.008130</td>\n",
       "    </tr>\n",
       "  </tbody>\n",
       "</table>\n",
       "</div>"
      ],
      "text/plain": [
       "                        mean                                       std  \\\n",
       "Number of products       50        100        150        200       50    \n",
       "Architecture                                                             \n",
       "Joint               1.633059  1.691749   1.628208   1.644468  0.168579   \n",
       "Separate            4.598782  7.476992  10.015902  12.706849  0.520596   \n",
       "\n",
       "                                                  \n",
       "Number of products       100       150       200  \n",
       "Architecture                                      \n",
       "Joint               0.207801  0.110004  0.087173  \n",
       "Separate            0.641614  0.805226  1.008130  "
      ]
     },
     "execution_count": 50,
     "metadata": {},
     "output_type": "execute_result"
    }
   ],
   "source": [
    "df_res_cpu_pv"
   ]
  },
  {
   "cell_type": "code",
   "execution_count": 51,
   "id": "55d493a6",
   "metadata": {},
   "outputs": [
    {
     "name": "stdout",
     "output_type": "stream",
     "text": [
      "Joint\n",
      "Separate\n"
     ]
    }
   ],
   "source": []
  },
  {
   "cell_type": "code",
   "execution_count": 54,
   "id": "bfe83260",
   "metadata": {},
   "outputs": [
    {
     "name": "stdout",
     "output_type": "stream",
     "text": [
      "$1.63\\pm 0.17$\\\\\n",
      "$1.69\\pm 0.21$\\\\\n",
      "$1.63\\pm 0.11$\\\\\n",
      "$1.64\\pm 0.09$\\\\\n",
      "$4.60\\pm 0.52$\\\\\n",
      "$7.48\\pm 0.64$\\\\\n",
      "$10.02\\pm 0.81$\\\\\n",
      "$12.71\\pm 1.01$\\\\\n"
     ]
    }
   ],
   "source": [
    "for arch, row in df_res_cpu_pv.iterrows():\n",
    "    for n_prod in n_prods_select:\n",
    "        m = row['mean'][n_prod]\n",
    "        s = row['std'][n_prod]\n",
    "        print(fr'${m:.2f}\\pm {s:.2f}$\\\\')"
   ]
  },
  {
   "cell_type": "code",
   "execution_count": 8,
   "id": "89da177b",
   "metadata": {},
   "outputs": [
    {
     "data": {
      "text/plain": [
       "<seaborn.axisgrid.FacetGrid at 0x7fc828534670>"
      ]
     },
     "execution_count": 8,
     "metadata": {},
     "output_type": "execute_result"
    },
    {
     "data": {
      "image/png": "[encoded data removed]",
      "text/plain": [
       "<Figure size 500x500 with 1 Axes>"
      ]
     },
     "metadata": {},
     "output_type": "display_data"
    }
   ],
   "source": [
    "sns.catplot(data=df_res_cuda[df_res_cuda[N_PROD] == 200],\n",
    "            x=MODEL_TYPE,\n",
    "            y=TIME, kind=\"bar\")"
   ]
  },
  {
   "cell_type": "code",
   "execution_count": 9,
   "id": "733b1775",
   "metadata": {},
   "outputs": [
    {
     "data": {
      "text/html": [
       "<div>\n",
       "<style scoped>\n",
       "    .dataframe tbody tr th:only-of-type {\n",
       "        vertical-align: middle;\n",
       "    }\n",
       "\n",
       "    .dataframe tbody tr th {\n",
       "        vertical-align: top;\n",
       "    }\n",
       "\n",
       "    .dataframe thead th {\n",
       "        text-align: right;\n",
       "    }\n",
       "</style>\n",
       "<table border=\"1\" class=\"dataframe\">\n",
       "  <thead>\n",
       "    <tr style=\"text-align: right;\">\n",
       "      <th></th>\n",
       "      <th>Time (s)</th>\n",
       "      <th>det_input_size</th>\n",
       "      <th>recog_input_size</th>\n",
       "      <th>Number of products</th>\n",
       "    </tr>\n",
       "    <tr>\n",
       "      <th>Architecture</th>\n",
       "      <th></th>\n",
       "      <th></th>\n",
       "      <th></th>\n",
       "      <th></th>\n",
       "    </tr>\n",
       "  </thead>\n",
       "  <tbody>\n",
       "    <tr>\n",
       "      <th>Joint</th>\n",
       "      <td>0.117714</td>\n",
       "      <td>800.0</td>\n",
       "      <td>224.0</td>\n",
       "      <td>200.0</td>\n",
       "    </tr>\n",
       "    <tr>\n",
       "      <th>Separate</th>\n",
       "      <td>0.176884</td>\n",
       "      <td>800.0</td>\n",
       "      <td>224.0</td>\n",
       "      <td>200.0</td>\n",
       "    </tr>\n",
       "  </tbody>\n",
       "</table>\n",
       "</div>"
      ],
      "text/plain": [
       "              Time (s)  det_input_size  recog_input_size  Number of products\n",
       "Architecture                                                                \n",
       "Joint         0.117714           800.0             224.0               200.0\n",
       "Separate      0.176884           800.0             224.0               200.0"
      ]
     },
     "execution_count": 9,
     "metadata": {},
     "output_type": "execute_result"
    }
   ],
   "source": [
    "df_res_cuda[df_res_cuda[N_PROD] == 200].groupby(MODEL_TYPE).mean()"
   ]
  },
  {
   "cell_type": "code",
   "execution_count": 10,
   "id": "e8392990",
   "metadata": {},
   "outputs": [
    {
     "data": {
      "text/plain": [
       "<seaborn.axisgrid.FacetGrid at 0x7fc7d06c3eb0>"
      ]
     },
     "execution_count": 10,
     "metadata": {},
     "output_type": "execute_result"
    },
    {
     "data": {
      "image/png": "[encoded data removed]",
      "text/plain": [
       "<Figure size 500x500 with 1 Axes>"
      ]
     },
     "metadata": {},
     "output_type": "display_data"
    }
   ],
   "source": [
    "sns.catplot(data=df_res_cpu[df_res_cpu[N_PROD] == 200],\n",
    "            x=MODEL_TYPE,\n",
    "            y=TIME, kind=\"bar\")"
   ]
  },
  {
   "cell_type": "markdown",
   "id": "11c9d2a9",
   "metadata": {},
   "source": [
    "# Estimated model size of joint vs separate model"
   ]
  },
  {
   "cell_type": "code",
   "execution_count": 11,
   "id": "fae6a271",
   "metadata": {},
   "outputs": [],
   "source": [
    "def get_model_size_mb(model):\n",
    "    param_size = 0\n",
    "    for param in model.parameters():\n",
    "        param_size += param.nelement() * param.element_size()\n",
    "    buffer_size = 0\n",
    "    for buffer in model.buffers():\n",
    "        buffer_size += buffer.nelement() * buffer.element_size()\n",
    "\n",
    "    return (param_size + buffer_size) / 1024**2"
   ]
  },
  {
   "cell_type": "code",
   "execution_count": 12,
   "id": "da64b5b2",
   "metadata": {},
   "outputs": [
    {
     "data": {
      "text/plain": [
       "159.68904876708984"
      ]
     },
     "execution_count": 12,
     "metadata": {},
     "output_type": "execute_result"
    }
   ],
   "source": [
    "get_model_size_mb(faster_rcnn)"
   ]
  },
  {
   "cell_type": "code",
   "execution_count": 13,
   "id": "54153d73",
   "metadata": {},
   "outputs": [
    {
     "data": {
      "text/plain": [
       "97.69538116455078"
      ]
     },
     "execution_count": 13,
     "metadata": {},
     "output_type": "execute_result"
    }
   ],
   "source": [
    "get_model_size_mb(rn50)"
   ]
  },
  {
   "cell_type": "code",
   "execution_count": 14,
   "id": "b35f59f4",
   "metadata": {},
   "outputs": [
    {
     "data": {
      "text/plain": [
       "2.001953125"
      ]
     },
     "execution_count": 14,
     "metadata": {},
     "output_type": "execute_result"
    }
   ],
   "source": [
    "get_model_size_mb(recog_head)"
   ]
  },
  {
   "cell_type": "code",
   "execution_count": 15,
   "id": "07f3d620",
   "metadata": {},
   "outputs": [
    {
     "name": "stdout",
     "output_type": "stream",
     "text": [
      "Estimated joint model size: 161.7 MB\n"
     ]
    }
   ],
   "source": [
    "print(f'Estimated joint model size: {get_model_size_mb(faster_rcnn) + get_model_size_mb(recog_head):.1f} MB')"
   ]
  },
  {
   "cell_type": "code",
   "execution_count": 16,
   "id": "556fbf6d",
   "metadata": {},
   "outputs": [
    {
     "name": "stdout",
     "output_type": "stream",
     "text": [
      "Estimated separate model size: 257.4 MB\n"
     ]
    }
   ],
   "source": [
    "print(f'Estimated separate model size: {get_model_size_mb(faster_rcnn) + get_model_size_mb(rn50):.1f} MB')"
   ]
  },
  {
   "cell_type": "markdown",
   "id": "31630927",
   "metadata": {},
   "source": [
    "# Linear regression through time vs. number of products"
   ]
  },
  {
   "cell_type": "code",
   "execution_count": 17,
   "id": "1df642cb",
   "metadata": {},
   "outputs": [
    {
     "name": "stdout",
     "output_type": "stream",
     "text": [
      "Joint on cpu:\n",
      "Delay per extra 10 products: 0.1 ms\n",
      "\n",
      "Joint on cuda:\n",
      "Delay per extra 10 products: 0.0 ms\n",
      "\n",
      "Separate on cpu:\n",
      "Delay per extra 10 products: 552.9 ms\n",
      "\n",
      "Separate on cuda:\n",
      "Delay per extra 10 products: 2.4 ms\n",
      "\n"
     ]
    }
   ],
   "source": [
    "from sklearn.linear_model import LinearRegression\n",
    "\n",
    "for (t, dev), group in df_res.groupby([MODEL_TYPE, DEVICE]):\n",
    "    print(f'{t} on {dev}:')\n",
    "    delay_per_prod = LinearRegression().fit(group[N_PROD].values[:, None], group[TIME]).coef_[0]\n",
    "    n_prod = 10\n",
    "    print(f'Delay per extra {n_prod} products: {delay_per_prod*n_prod*1000:.1f} ms\\n')"
   ]
  },
  {
   "cell_type": "code",
   "execution_count": null,
   "id": "2f694415",
   "metadata": {},
   "outputs": [],
   "source": []
  }
 ],
 "metadata": {
  "kernelspec": {
   "display_name": "Python 3 (ipykernel)",
   "language": "python",
   "name": "python3"
  },
  "language_info": {
   "codemirror_mode": {
    "name": "ipython",
    "version": 3
   },
   "file_extension": ".py",
   "mimetype": "text/x-python",
   "name": "python",
   "nbconvert_exporter": "python",
   "pygments_lexer": "ipython3",
   "version": "3.9.15"
  }
 },
 "nbformat": 4,
 "nbformat_minor": 5
}
