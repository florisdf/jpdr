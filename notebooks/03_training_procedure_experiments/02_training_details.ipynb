{
 "cells": [
  {
   "cell_type": "code",
   "execution_count": 1,
   "id": "9fbdaba0",
   "metadata": {},
   "outputs": [],
   "source": [
    "PROC = 'Procedure'"
   ]
  },
  {
   "cell_type": "code",
   "execution_count": 2,
   "id": "e2772ed1",
   "metadata": {},
   "outputs": [],
   "source": [
    "PROC_1 = \"Proc. 1\"# (Conventional detector training)\"\n",
    "PROC_2 = \"Proc. 2\"# (Two-phase training)\"\n",
    "PROC_3 = \"Proc. 3\"# (Crop batch training)\""
   ]
  },
  {
   "cell_type": "code",
   "execution_count": 3,
   "id": "4822f742",
   "metadata": {},
   "outputs": [],
   "source": [
    "from pathlib import Path\n",
    "\n",
    "import pandas as pd\n",
    "from tqdm.auto import tqdm\n",
    "import wandb\n",
    "\n",
    "\n",
    "res_path = Path('training_details.pkl')\n",
    "LAZY = True\n",
    "\n",
    "\n",
    "KEYS = [\n",
    "    'lr',\n",
    "    'num_epochs',\n",
    "    'backbone_name',\n",
    "    'crop_box_size',\n",
    "    'k_fold_val_fold',\n",
    "    'trainable_layers',\n",
    "    'id_embedding_size',\n",
    "    'use_crop_batch_inputs',\n",
    "    'use_split_detect_recog',\n",
    "]\n",
    "\n",
    "\n",
    "def get_results():\n",
    "    api = wandb.Api()\n",
    "\n",
    "    SWEEPS = {\n",
    "        \"sandbox_experiments/ae74qmol\": PROC_1,\n",
    "        \"sandbox_experiments/6wecie9y\": PROC_2,\n",
    "        \"experiments/dyuqidka\": PROC_3,\n",
    "        \"experiments/yenmkqwi\": PROC_3,\n",
    "    }\n",
    "\n",
    "    configs = []\n",
    "\n",
    "    for sweep_suffix, proc_name in tqdm(SWEEPS.items()):\n",
    "        sweep = api.sweep(f\"jpdr/{sweep_suffix}\")\n",
    "        runs = sweep.runs\n",
    "\n",
    "        for run in tqdm(runs, leave=False):\n",
    "            config = {k: run.config[k] for k in KEYS}\n",
    "            config['name'] = proc_name\n",
    "            configs.append(config)\n",
    "\n",
    "    return pd.DataFrame(configs)\n",
    "\n",
    "\n",
    "if not res_path.exists() or not LAZY:\n",
    "    df = get_results()\n",
    "    df.to_pickle(res_path)\n",
    "else:\n",
    "    df = pd.read_pickle(res_path)\n",
    "\n",
    "df.loc[~df['use_crop_batch_inputs'], 'crop_box_size'] = None\n",
    "df = df[df['crop_box_size'] != 'mean'].reset_index(drop=True)"
   ]
  },
  {
   "cell_type": "code",
   "execution_count": 4,
   "id": "6179d805",
   "metadata": {},
   "outputs": [],
   "source": [
    "df.to_csv('training_details.csv')"
   ]
  },
  {
   "cell_type": "code",
   "execution_count": null,
   "id": "ee099aa3",
   "metadata": {},
   "outputs": [],
   "source": []
  }
 ],
 "metadata": {
  "kernelspec": {
   "display_name": "Python 3 (ipykernel)",
   "language": "python",
   "name": "python3"
  },
  "language_info": {
   "codemirror_mode": {
    "name": "ipython",
    "version": 3
   },
   "file_extension": ".py",
   "mimetype": "text/x-python",
   "name": "python",
   "nbconvert_exporter": "python",
   "pygments_lexer": "ipython3",
   "version": "3.9.13"
  }
 },
 "nbformat": 4,
 "nbformat_minor": 5
}
