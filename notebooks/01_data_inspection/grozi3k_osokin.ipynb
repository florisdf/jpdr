{
 "cells": [
  {
   "cell_type": "code",
   "execution_count": null,
   "id": "afc3fe66",
   "metadata": {},
   "outputs": [],
   "source": [
    "import sys; sys.path.append('../..')\n",
    "from jpdr.datasets import GroZi3kOsokin"
   ]
  },
  {
   "cell_type": "code",
   "execution_count": null,
   "id": "b3bc3205",
   "metadata": {},
   "outputs": [],
   "source": [
    "import pandas as pd"
   ]
  },
  {
   "cell_type": "code",
   "execution_count": null,
   "id": "fd74cb1a",
   "metadata": {},
   "outputs": [],
   "source": [
    "from pathlib import Path\n",
    "\n",
    "data_path = Path('../../data/GroceryProducts_Osokin')\n",
    "ds = GroZi3kOsokin(data_path, subset='all_query')"
   ]
  },
  {
   "cell_type": "code",
   "execution_count": null,
   "id": "9a692934",
   "metadata": {},
   "outputs": [],
   "source": [
    "from PIL import Image, ImageDraw\n",
    "\n",
    "image_id = 6\n",
    "\n",
    "im, tgt = ds[image_id]\n",
    "boxes = tgt['boxes']\n",
    "labels = tgt['product_ids']\n",
    "\n",
    "draw = ImageDraw.Draw(im)\n",
    "\n",
    "for label, box in zip(labels, boxes):\n",
    "    draw.rectangle(tuple(box), width=5)\n",
    "    draw.text(tuple(box[::2]), str(label))\n",
    "\n",
    "im"
   ]
  }
 ],
 "metadata": {
  "kernelspec": {
   "display_name": "Python 3 (ipykernel)",
   "language": "python",
   "name": "python3"
  },
  "language_info": {
   "codemirror_mode": {
    "name": "ipython",
    "version": 3
   },
   "file_extension": ".py",
   "mimetype": "text/x-python",
   "name": "python",
   "nbconvert_exporter": "python",
   "pygments_lexer": "ipython3",
   "version": "3.9.13"
  }
 },
 "nbformat": 4,
 "nbformat_minor": 5
}
