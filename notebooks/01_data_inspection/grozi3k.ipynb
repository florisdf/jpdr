{
 "cells": [
  {
   "cell_type": "code",
   "execution_count": null,
   "id": "a934a217",
   "metadata": {},
   "outputs": [],
   "source": [
    "import sys; sys.path.append('../../')"
   ]
  },
  {
   "cell_type": "code",
   "execution_count": null,
   "id": "d3b1fec5",
   "metadata": {},
   "outputs": [],
   "source": [
    "from jpdr.datasets import GroZi3k"
   ]
  },
  {
   "cell_type": "code",
   "execution_count": null,
   "id": "58ea06f6",
   "metadata": {
    "scrolled": true
   },
   "outputs": [],
   "source": [
    "ds_gallery = GroZi3k('../../data/GroceryProducts_Tonioni/', subset='val_gallery')\n",
    "ds_query = GroZi3k('../../data/GroceryProducts_Tonioni/', subset='val_query')"
   ]
  },
  {
   "cell_type": "code",
   "execution_count": null,
   "id": "ae7da2eb",
   "metadata": {},
   "outputs": [],
   "source": [
    "df_gal = ds_gallery.df\n",
    "df_query = ds_query.df"
   ]
  },
  {
   "cell_type": "code",
   "execution_count": null,
   "id": "5d9c859a",
   "metadata": {},
   "outputs": [],
   "source": [
    "import numpy as np\n",
    "\n",
    "prod_ids = np.concatenate(df_query['target'].apply(lambda t: t['product_ids']).values)\n",
    "uniq_prod_ids = np.unique(prod_ids)\n",
    "print(f'{len(uniq_prod_ids)} product ids')"
   ]
  },
  {
   "cell_type": "code",
   "execution_count": null,
   "id": "a8c24ec1",
   "metadata": {},
   "outputs": [],
   "source": [
    "print(f'{len(df_query)} rek-afbeeldingen')"
   ]
  },
  {
   "cell_type": "code",
   "execution_count": null,
   "id": "33f40e70",
   "metadata": {},
   "outputs": [],
   "source": [
    "from PIL import Image, ImageDraw\n",
    "\n",
    "im, target = ds_query[20]\n",
    "\n",
    "draw = ImageDraw.Draw(im)\n",
    "\n",
    "for box in target['boxes']:\n",
    "    draw.rectangle(tuple(box), width=5)\n",
    "\n",
    "im"
   ]
  },
  {
   "cell_type": "code",
   "execution_count": null,
   "id": "10ad4cfd",
   "metadata": {},
   "outputs": [],
   "source": []
  }
 ],
 "metadata": {
  "kernelspec": {
   "display_name": "Python 3 (ipykernel)",
   "language": "python",
   "name": "python3"
  },
  "language_info": {
   "codemirror_mode": {
    "name": "ipython",
    "version": 3
   },
   "file_extension": ".py",
   "mimetype": "text/x-python",
   "name": "python",
   "nbconvert_exporter": "python",
   "pygments_lexer": "ipython3",
   "version": "3.9.13"
  }
 },
 "nbformat": 4,
 "nbformat_minor": 5
}
