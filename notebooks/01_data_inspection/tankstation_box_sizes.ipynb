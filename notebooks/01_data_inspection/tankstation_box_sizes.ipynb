{
 "cells": [
  {
   "cell_type": "code",
   "execution_count": null,
   "id": "1253e603",
   "metadata": {},
   "outputs": [],
   "source": [
    "import sys; sys.path.append('../..')"
   ]
  },
  {
   "cell_type": "code",
   "execution_count": null,
   "id": "0efbe085",
   "metadata": {},
   "outputs": [],
   "source": [
    "from jpdr.datasets.tankstation import Tankstation\n",
    "\n",
    "\n",
    "ds = Tankstation('../../data/Tankstation/', subset='val_query')"
   ]
  },
  {
   "cell_type": "code",
   "execution_count": null,
   "id": "bad22cd0",
   "metadata": {},
   "outputs": [],
   "source": [
    "len(ds)"
   ]
  },
  {
   "cell_type": "code",
   "execution_count": null,
   "id": "3f5a1a84",
   "metadata": {},
   "outputs": [],
   "source": [
    "import numpy as np\n",
    "\n",
    "df_query = ds.df\n",
    "prod_ids = np.concatenate(df_query['target'].apply(lambda t: t['product_ids']).values)\n",
    "uniq_prod_ids = np.unique(prod_ids)\n",
    "print(f'{len(uniq_prod_ids)} product ids')"
   ]
  },
  {
   "cell_type": "code",
   "execution_count": null,
   "id": "df73b4a8",
   "metadata": {},
   "outputs": [],
   "source": [
    "import torch\n",
    "\n",
    "all_boxes = torch.cat([\n",
    "    tgt['boxes']\n",
    "    for tgt in ds.df['target']\n",
    "])"
   ]
  },
  {
   "cell_type": "code",
   "execution_count": null,
   "id": "bde87213",
   "metadata": {},
   "outputs": [],
   "source": [
    "widths = all_boxes[:, 2] - all_boxes[:, 0]\n",
    "heights = all_boxes[:, 3] - all_boxes[:, 1]\n",
    "areas = widths * heights"
   ]
  },
  {
   "cell_type": "code",
   "execution_count": null,
   "id": "ab100247",
   "metadata": {},
   "outputs": [],
   "source": [
    "import matplotlib.pyplot as plt\n",
    "\n",
    "plt.hist(areas.sqrt().numpy(), bins=100)\n",
    "plt.title('Sqrt areas')\n",
    "plt.show()"
   ]
  },
  {
   "cell_type": "code",
   "execution_count": null,
   "id": "ae95df34",
   "metadata": {},
   "outputs": [],
   "source": [
    "plt.hist(widths.numpy(), bins=100)\n",
    "plt.title('widths')\n",
    "plt.show()"
   ]
  },
  {
   "cell_type": "code",
   "execution_count": null,
   "id": "2a728248",
   "metadata": {},
   "outputs": [],
   "source": [
    "plt.hist(heights.numpy(), bins=100)\n",
    "plt.title('heights')\n",
    "plt.show()"
   ]
  },
  {
   "cell_type": "code",
   "execution_count": null,
   "id": "fa95c246",
   "metadata": {},
   "outputs": [],
   "source": []
  }
 ],
 "metadata": {
  "kernelspec": {
   "display_name": "Python 3 (ipykernel)",
   "language": "python",
   "name": "python3"
  },
  "language_info": {
   "codemirror_mode": {
    "name": "ipython",
    "version": 3
   },
   "file_extension": ".py",
   "mimetype": "text/x-python",
   "name": "python",
   "nbconvert_exporter": "python",
   "pygments_lexer": "ipython3",
   "version": "3.9.13"
  }
 },
 "nbformat": 4,
 "nbformat_minor": 5
}
