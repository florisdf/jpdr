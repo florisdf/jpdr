{
 "cells": [
  {
   "cell_type": "code",
   "execution_count": null,
   "id": "a934a217",
   "metadata": {},
   "outputs": [],
   "source": [
    "import sys; sys.path.append('../../')"
   ]
  },
  {
   "cell_type": "code",
   "execution_count": null,
   "id": "d3b1fec5",
   "metadata": {},
   "outputs": [],
   "source": [
    "from jpdr.datasets import GroZi3k"
   ]
  },
  {
   "cell_type": "code",
   "execution_count": null,
   "id": "58ea06f6",
   "metadata": {
    "scrolled": true
   },
   "outputs": [],
   "source": [
    "ds_gallery = GroZi3k('../../data/GroceryProducts_Tonioni/', subset='val_gallery')\n",
    "ds_query = GroZi3k('../../data/GroceryProducts_Tonioni/', subset='val_query')"
   ]
  },
  {
   "cell_type": "code",
   "execution_count": null,
   "id": "ae7da2eb",
   "metadata": {},
   "outputs": [],
   "source": [
    "df_gal = ds_gallery.df\n",
    "df_query = ds_query.df"
   ]
  },
  {
   "cell_type": "code",
   "execution_count": null,
   "id": "5d9c859a",
   "metadata": {},
   "outputs": [],
   "source": [
    "import numpy as np\n",
    "\n",
    "prod_ids = np.concatenate(df_query['target'].apply(lambda t: t['product_ids']).values)\n",
    "uniq_prod_ids = np.unique(prod_ids)\n",
    "print(f'{len(uniq_prod_ids)} product ids')"
   ]
  },
  {
   "cell_type": "code",
   "execution_count": null,
   "id": "a8c24ec1",
   "metadata": {},
   "outputs": [],
   "source": [
    "print(f'{len(df_query)} rek-afbeeldingen')"
   ]
  },
  {
   "cell_type": "code",
   "execution_count": null,
   "id": "33f40e70",
   "metadata": {
    "scrolled": true
   },
   "outputs": [],
   "source": [
    "from PIL import Image, ImageDraw\n",
    "\n",
    "im, target = ds_query[7]\n",
    "\n",
    "# draw = ImageDraw.Draw(im)\n",
    "\n",
    "# for box in target['boxes']:\n",
    "#     draw.rectangle(tuple(box), width=5)\n",
    "w, h = im.size\n",
    "scale = 0.25\n",
    "im.resize((int(w*scale), int(h*scale)))"
   ]
  },
  {
   "cell_type": "code",
   "execution_count": null,
   "id": "2b70c8ef",
   "metadata": {},
   "outputs": [],
   "source": [
    "from tqdm.auto import tqdm\n",
    "\n",
    "for i, box in enumerate(tqdm(target['boxes'])):\n",
    "    crop = im.crop([int(x) for x in box])\n",
    "    w, h = crop.size\n",
    "    crop.resize((int(w*scale), int(h*scale))).save(f'box_{i}.jpg')"
   ]
  },
  {
   "cell_type": "code",
   "execution_count": null,
   "id": "3dc86cdb",
   "metadata": {},
   "outputs": [],
   "source": [
    "gal_idxs = ds_gallery.df[ds_gallery.df['product_id'].isin(target['product_ids'].tolist())].index\n",
    "\n",
    "for idx in gal_idxs:\n",
    "    im, label = ds_gallery[idx]\n",
    "    w, h = im.size\n",
    "    im.resize((int(w*scale), int(h*scale))).save(f'product_{label}.jpg')"
   ]
  },
  {
   "cell_type": "code",
   "execution_count": null,
   "id": "f2358bbe",
   "metadata": {},
   "outputs": [],
   "source": [
    "from jpdr.utils.crop_batch import crop_and_batch_boxes\n",
    "from torchvision.transforms.functional import to_pil_image, to_tensor\n",
    "from jpdr.transforms import RandomShortestSize\n",
    "import jpdr.utils.boxes as B\n",
    "\n",
    "resize = RandomShortestSize(min_size=800)\n",
    "im, target = ds_query[7]\n",
    "im, target = resize(im, target)\n",
    "im = to_tensor(im)\n",
    "\n",
    "crop_size = 500\n",
    "\n",
    "crop_boxes = B.make_boxes_batchable(\n",
    "    target['boxes'], to_int=True, crop_box_size=crop_size,\n",
    ")\n",
    "#crop_boxes = [B.drop_boxes_outside_img(im, img_boxes) for img_boxes in crop_boxes]\n",
    "#crop_boxes = [B.drop_overlapping_boxes(img_boxes, 0.5) for img_boxes in crop_boxes]\n",
    "crops = crop_and_batch_boxes(im[None, :], crop_boxes[None, :])\n",
    "crops = [to_pil_image(crop) for crop in crops]\n",
    "\n",
    "for i, crop in enumerate(crops):\n",
    "    crop.save(f'crop_{crop_size}_{i}.jpg')"
   ]
  },
  {
   "cell_type": "code",
   "execution_count": null,
   "id": "6e76a207",
   "metadata": {},
   "outputs": [],
   "source": []
  }
 ],
 "metadata": {
  "kernelspec": {
   "display_name": "Python 3 (ipykernel)",
   "language": "python",
   "name": "python3"
  },
  "language_info": {
   "codemirror_mode": {
    "name": "ipython",
    "version": 3
   },
   "file_extension": ".py",
   "mimetype": "text/x-python",
   "name": "python",
   "nbconvert_exporter": "python",
   "pygments_lexer": "ipython3",
   "version": "3.9.13"
  }
 },
 "nbformat": 4,
 "nbformat_minor": 5
}
