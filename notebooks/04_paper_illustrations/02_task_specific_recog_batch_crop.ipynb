{
 "cells": [
  {
   "cell_type": "code",
   "execution_count": 1,
   "id": "3be43e0b",
   "metadata": {},
   "outputs": [],
   "source": [
    "import sys; sys.path.append('../../')"
   ]
  },
  {
   "cell_type": "code",
   "execution_count": 3,
   "id": "ddddfd97",
   "metadata": {},
   "outputs": [],
   "source": [
    "from jpdr.datasets import GroZi3k\n",
    "import jpdr.transforms as T\n",
    "from data import get_dataloaders"
   ]
  },
  {
   "cell_type": "code",
   "execution_count": 4,
   "id": "2a696be1",
   "metadata": {},
   "outputs": [],
   "source": [
    "img_size = 800\n",
    "\n",
    "dl_train_det, dl_train_recog, dl_val = get_dataloaders(\n",
    "    'tonioni', img_size, normalize=False,\n",
    "    shuffle_train=False, num_workers=8,\n",
    "    train_crop_how=\"center\"\n",
    ")"
   ]
  },
  {
   "cell_type": "code",
   "execution_count": 5,
   "id": "b028b55a",
   "metadata": {},
   "outputs": [],
   "source": [
    "from PIL import ImageDraw\n",
    "from random import randint\n",
    "\n",
    "def rand_chan():\n",
    "    return randint(0, 255)\n",
    "\n",
    "def rand_rgb():\n",
    "    return (rand_chan(), rand_chan(), rand_chan())\n",
    "\n",
    "def draw_boxes(im, boxes, labels=None):\n",
    "    draw = ImageDraw.Draw(im)\n",
    "    if labels is None:\n",
    "        labels = [\"\"]*len(boxes)\n",
    "\n",
    "    for box, label in zip(boxes, labels):\n",
    "        draw.rectangle(tuple(box), width=3, outline=rand_rgb())\n",
    "        draw.text((box[0], box[1]), label, fill=\"white\")\n",
    "\n",
    "    return im\n",
    "\n",
    "def add_label(im, label, xy=(10, 10)):\n",
    "    draw = ImageDraw.Draw(im)\n",
    "    draw.text(xy, label, fill=\"white\")\n",
    "    return im"
   ]
  },
  {
   "cell_type": "raw",
   "id": "045b2767",
   "metadata": {},
   "source": [
    "import torch\n",
    "\n",
    "all_boxes = torch.vstack([\n",
    "    t['boxes']\n",
    "    for _, targets in dl_train_recog\n",
    "    for t in targets\n",
    "])\n",
    "\n",
    "widths = all_boxes[:, ::2].diff().squeeze()\n",
    "heights = all_boxes[:, 1::2].diff().squeeze()\n",
    "\n",
    "widths.mean(), heights.mean()\n",
    "# (tensor(195.8140), tensor(229.2918))"
   ]
  },
  {
   "cell_type": "code",
   "execution_count": 6,
   "id": "4b6e9156",
   "metadata": {
    "scrolled": false
   },
   "outputs": [],
   "source": [
    "from ipywidgets import interact, BoundedIntText\n",
    "from torchvision.transforms import ToPILImage\n",
    "from jpdr.utils.image_tools import show_ims\n",
    "\n",
    "from training_steps_task_specific import create_recog_batch\n",
    "\n",
    "\n",
    "def build_get_crop_boxes(dl, callback):\n",
    "    def get_crop_boxes(\n",
    "        batch=0,\n",
    "    ):\n",
    "        for i, (x, targets) in enumerate(dl):\n",
    "            if i == batch:\n",
    "                break\n",
    "\n",
    "        crops, crop_tgts, crop_boxes = create_recog_batch(\n",
    "            x, targets,\n",
    "            return_crop_boxes=True\n",
    "        )\n",
    "        callback(x, targets, crops, crop_tgts, crop_boxes)\n",
    "\n",
    "    return get_crop_boxes\n",
    "\n",
    "\n",
    "def interact_crop_boxes(dl, callback):\n",
    "    interact(\n",
    "        build_get_crop_boxes(dl, callback),\n",
    "        batch=BoundedIntText(\n",
    "            value=0,\n",
    "            min=0,\n",
    "            max=len(dl),\n",
    "        ),\n",
    "    )\n",
    "\n",
    "\n",
    "def show_crop_boxes(x, targets, crops, crop_tgts, crop_boxes):\n",
    "    to_pil = ToPILImage()\n",
    "\n",
    "    ncols = 2\n",
    "    pil_ims = [\n",
    "        draw_boxes(to_pil(t), boxes)\n",
    "        for t, boxes in zip(x, crop_boxes)\n",
    "    ]\n",
    "    show_ims(pil_ims, figsize=(40, 40*len(pil_ims)/ncols), columns=ncols)\n",
    "\n",
    "\n",
    "def show_crops_with_targets(x, targets, crops, tgt_ids, crop_boxes):\n",
    "    to_pil = ToPILImage()\n",
    "    pil_crops = [to_pil(crop) for crop in crops]\n",
    "\n",
    "    crop_h, crop_w = crops.shape[-2:]\n",
    "    ncols = 5\n",
    "    scale = 0.1\n",
    "\n",
    "    show_ims([\n",
    "        add_label(to_pil(t), str(int(label)))\n",
    "        for t, label in zip(crops, tgt_ids)\n",
    "    ], figsize=(crop_w*scale, (len(pil_crops)*crop_h/ncols)*scale/4), columns=ncols)"
   ]
  },
  {
   "cell_type": "code",
   "execution_count": 7,
   "id": "8c498c4c",
   "metadata": {
    "scrolled": true
   },
   "outputs": [],
   "source": [
    "batch = 0\n",
    "dl = dl_train_recog\n",
    "\n",
    "for i, (x, targets) in enumerate(dl):\n",
    "    if i == batch:\n",
    "        break\n",
    "\n",
    "crops, crop_tgts, crop_boxes = create_recog_batch(\n",
    "    x, targets,\n",
    "    return_crop_boxes=True\n",
    ")"
   ]
  },
  {
   "cell_type": "code",
   "execution_count": 8,
   "id": "76219895",
   "metadata": {},
   "outputs": [
    {
     "data": {
      "application/vnd.jupyter.widget-view+json": {
       "model_id": "08ba07463453493798bacbca5160d85e",
       "version_major": 2,
       "version_minor": 0
      },
      "text/plain": [
       "interactive(children=(BoundedIntText(value=0, description='batch', max=49), Output()), _dom_classes=('widget-i…"
      ]
     },
     "metadata": {},
     "output_type": "display_data"
    }
   ],
   "source": [
    "interact_crop_boxes(dl_train_recog, show_crop_boxes)"
   ]
  },
  {
   "cell_type": "code",
   "execution_count": 9,
   "id": "611e7da5",
   "metadata": {
    "scrolled": false
   },
   "outputs": [
    {
     "data": {
      "application/vnd.jupyter.widget-view+json": {
       "model_id": "42553ae2311944dd95838c6407c04e08",
       "version_major": 2,
       "version_minor": 0
      },
      "text/plain": [
       "interactive(children=(BoundedIntText(value=0, description='batch', max=49), Output()), _dom_classes=('widget-i…"
      ]
     },
     "metadata": {},
     "output_type": "display_data"
    }
   ],
   "source": [
    "interact_crop_boxes(dl_train_recog, show_crops_with_targets)"
   ]
  },
  {
   "cell_type": "code",
   "execution_count": null,
   "id": "97f4490e",
   "metadata": {},
   "outputs": [],
   "source": []
  }
 ],
 "metadata": {
  "kernelspec": {
   "display_name": "Python 3 (ipykernel)",
   "language": "python",
   "name": "python3"
  },
  "language_info": {
   "codemirror_mode": {
    "name": "ipython",
    "version": 3
   },
   "file_extension": ".py",
   "mimetype": "text/x-python",
   "name": "python",
   "nbconvert_exporter": "python",
   "pygments_lexer": "ipython3",
   "version": "3.9.13"
  }
 },
 "nbformat": 4,
 "nbformat_minor": 5
}
